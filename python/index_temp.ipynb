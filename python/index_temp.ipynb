{
 "cells": [
  {
   "cell_type": "markdown",
   "id": "b29b0204",
   "metadata": {},
   "source": [
    "# exract"
   ]
  },
  {
   "cell_type": "code",
   "execution_count": 1,
   "id": "0c27feae",
   "metadata": {},
   "outputs": [],
   "source": [
    "import pandas as pd\n",
    "import numpy as np"
   ]
  },
  {
   "cell_type": "code",
   "execution_count": 3,
   "id": "6b801692",
   "metadata": {},
   "outputs": [
    {
     "name": "stdout",
     "output_type": "stream",
     "text": [
      "  result  table                     _start                             _stop  \\\n",
      "0   mean      0  1970-01-01 00:00:00+00:00  2025-10-22 07:48:40.671758+00:00   \n",
      "1   mean      0  1970-01-01 00:00:00+00:00  2025-10-22 07:48:40.671758+00:00   \n",
      "2   mean      0  1970-01-01 00:00:00+00:00  2025-10-22 07:48:40.671758+00:00   \n",
      "3   mean      0  1970-01-01 00:00:00+00:00  2025-10-22 07:48:40.671758+00:00   \n",
      "4   mean      0  1970-01-01 00:00:00+00:00  2025-10-22 07:48:40.671758+00:00   \n",
      "\n",
      "                       _time     _value _field _measurement          host  \\\n",
      "0  2025-10-16 11:15:00+00:00  24.800000   temp     cucumber  f199a2094793   \n",
      "1  2025-10-17 02:10:00+00:00  24.857143   temp     cucumber  f199a2094793   \n",
      "2  2025-10-17 02:15:00+00:00  24.946667   temp     cucumber  f199a2094793   \n",
      "3  2025-10-17 02:20:00+00:00  24.920000   temp     cucumber  f199a2094793   \n",
      "4  2025-10-17 02:25:00+00:00  24.724138   temp     cucumber  f199a2094793   \n",
      "\n",
      "           sensor_id                               topic  \n",
      "0  60:55:F9:EC:C3:D6  cucumber/sensors/60:55:F9:EC:C3:D6  \n",
      "1  60:55:F9:EC:C3:D6  cucumber/sensors/60:55:F9:EC:C3:D6  \n",
      "2  60:55:F9:EC:C3:D6  cucumber/sensors/60:55:F9:EC:C3:D6  \n",
      "3  60:55:F9:EC:C3:D6  cucumber/sensors/60:55:F9:EC:C3:D6  \n",
      "4  60:55:F9:EC:C3:D6  cucumber/sensors/60:55:F9:EC:C3:D6  \n"
     ]
    }
   ],
   "source": [
    "df1 = pd.read_csv('./sensors_temp_data.csv')\n",
    "print(df1.head())"
   ]
  },
  {
   "cell_type": "markdown",
   "id": "f1349f43",
   "metadata": {},
   "source": [
    "# เปลี่ยนชื่อ column"
   ]
  },
  {
   "cell_type": "code",
   "execution_count": 5,
   "id": "627ab4de",
   "metadata": {},
   "outputs": [
    {
     "name": "stdout",
     "output_type": "stream",
     "text": [
      "                  timestamp        mac_address  temperature\n",
      "0 2025-10-16 18:15:00+07:00  60:55:F9:EC:C3:D6    24.800000\n",
      "1 2025-10-17 09:10:00+07:00  60:55:F9:EC:C3:D6    24.857143\n",
      "2 2025-10-17 09:15:00+07:00  60:55:F9:EC:C3:D6    24.946667\n",
      "3 2025-10-17 09:20:00+07:00  60:55:F9:EC:C3:D6    24.920000\n",
      "4 2025-10-17 09:25:00+07:00  60:55:F9:EC:C3:D6    24.724138\n"
     ]
    }
   ],
   "source": [
    "import pandas as pd\n",
    "from datetime import datetime\n",
    "import pytz\n",
    "\n",
    "# Read CSV\n",
    "df1 = pd.read_csv('./sensors_temp_data.csv')\n",
    "\n",
    "# Create df2 with selected columns\n",
    "df2 = df1[['_time', 'sensor_id', '_value']].copy()\n",
    "\n",
    "# Rename columns\n",
    "df2.columns = ['timestamp', 'mac_address', 'temperature']\n",
    "\n",
    "# Convert timestamp to datetime with ISO8601 format and then to GMT+7 (Thailand)\n",
    "df2['timestamp'] = pd.to_datetime(df2['timestamp'], format='ISO8601').dt.tz_convert('Asia/Bangkok')\n",
    "\n",
    "# Save to CSV\n",
    "df2.to_csv('processed_sensors_data.csv', index=False)\n",
    "\n",
    "# Print first few rows\n",
    "print(df2.head())"
   ]
  },
  {
   "cell_type": "markdown",
   "id": "149b3efe",
   "metadata": {},
   "source": [
    "# grouping ข้อมูล by mac address"
   ]
  },
  {
   "cell_type": "code",
   "execution_count": 11,
   "id": "c9b203bd",
   "metadata": {},
   "outputs": [
    {
     "name": "stdout",
     "output_type": "stream",
     "text": [
      "Unique MAC Addresses:\n",
      "['60:55:F9:EC:C3:D6' '60:55:F9:EC:D4:4E' '60:55:F9:ED:22:2C'\n",
      " '60:55:F9:ED:36:E8' '60:55:F9:ED:92:00' '60:55:F9:ED:D2:18'\n",
      " '60:55:F9:ED:F5:DC' '68:67:25:2D:02:6E' '7C:DF:A1:00:AA:66'\n",
      " '7C:DF:A1:00:AD:6E' 'SENSOR08,' 'cucumber_4']\n",
      "\n",
      "DF3: Mean Temperature by MAC Address\n",
      "          mac_address  temperature\n",
      "0   60:55:F9:EC:C3:D6    24.748179\n",
      "1   60:55:F9:EC:D4:4E    25.725963\n",
      "2   60:55:F9:ED:22:2C    24.433299\n",
      "3   60:55:F9:ED:36:E8    25.071865\n",
      "4   60:55:F9:ED:92:00    24.800406\n",
      "5   60:55:F9:ED:D2:18    24.406814\n",
      "6   60:55:F9:ED:F5:DC    25.649304\n",
      "7   68:67:25:2D:02:6E    24.148925\n",
      "8   7C:DF:A1:00:AA:66    25.118975\n",
      "9   7C:DF:A1:00:AD:6E    24.871922\n",
      "10          SENSOR08,    24.900000\n",
      "11         cucumber_4    25.666667\n"
     ]
    }
   ],
   "source": [
    "import pandas as pd\n",
    "import matplotlib.pyplot as plt\n",
    "import os\n",
    "\n",
    "# Ensure output directory exists\n",
    "output_dir = './img_out_temp'\n",
    "os.makedirs(output_dir, exist_ok=True)\n",
    "\n",
    "# Read CSV\n",
    "df2 = pd.read_csv('processed_sensors_data.csv')\n",
    "\n",
    "# Print unique MAC addresses\n",
    "print(\"Unique MAC Addresses:\")\n",
    "print(df2['mac_address'].unique())\n",
    "\n",
    "# Create df3: Group by mac_address and calculate mean temperature\n",
    "df3 = df2.groupby('mac_address')['temperature'].mean().reset_index()\n",
    "print(\"\\nDF3: Mean Temperature by MAC Address\")\n",
    "print(df3)\n",
    "\n",
    "# Convert timestamp to datetime with ISO8601 format and extract date for daily grouping\n",
    "df2['timestamp'] = pd.to_datetime(df2['timestamp'], format='ISO8601')\n",
    "df2['date'] = df2['timestamp'].dt.date\n",
    "\n",
    "# Group by mac_address and date, calculate mean temperature\n",
    "daily_data = df2.groupby(['mac_address', 'date'])['temperature'].mean().reset_index()\n",
    "\n",
    "# Plot temperature for each MAC address, separated by date\n",
    "mac_addresses = daily_data['mac_address'].unique()\n",
    "\n",
    "for mac in mac_addresses:\n",
    "    # Replace invalid characters in MAC address for filename\n",
    "    safe_mac = mac.replace(':', '_').replace(',', '_')\n",
    "    mac_data = daily_data[daily_data['mac_address'] == mac]\n",
    "    plt.figure(figsize=(10, 5))\n",
    "    plt.plot(mac_data['date'], mac_data['temperature'], marker='o', label=f'MAC: {mac}')\n",
    "    plt.title(f'Average Daily Temperature for {mac}')\n",
    "    plt.xlabel('Date')\n",
    "    plt.ylabel('Temperature (°C)')\n",
    "    plt.xticks(rotation=45)\n",
    "    plt.legend()\n",
    "    plt.grid(True)\n",
    "    plt.tight_layout()\n",
    "    plt.savefig(f'{output_dir}/temperature_plot_{safe_mac}.png')\n",
    "    plt.close()"
   ]
  },
  {
   "cell_type": "markdown",
   "id": "b8287c7c",
   "metadata": {},
   "source": [
    "# คำอธิบายโค้ด (สั้น ๆ)\n",
    "\n",
    "โค้ดนี้ทำการวิเคราะห์ข้อมูลอุณหภูมิจากไฟล์ `processed_sensors_data.csv`:\n",
    "1. อ่าน CSV และแสดง MAC address ที่ไม่ซ้ำ.\n",
    "2. สร้าง `df3` โดยคำนวณอุณหภูมิเฉลี่ยต่อ MAC address.\n",
    "3. แปลง timestamp เป็นวันที่ (GMT+7) และจัดกลุ่มข้อมูลตาม MAC address และวันที่.\n",
    "4. สร้างกราฟอุณหภูมิเฉลี่ยรายวันสำหรับแต่ละ MAC address.\n",
    "5. แก้ปัญหา Invalid filename โดยแปลง `:` และ `,` ใน MAC address เป็น `_` และบันทึกกราฟลงโฟลเดอร์ `img_out_temp` เป็น PNG."
   ]
  }
 ],
 "metadata": {
  "kernelspec": {
   "display_name": "Python 3",
   "language": "python",
   "name": "python3"
  },
  "language_info": {
   "codemirror_mode": {
    "name": "ipython",
    "version": 3
   },
   "file_extension": ".py",
   "mimetype": "text/x-python",
   "name": "python",
   "nbconvert_exporter": "python",
   "pygments_lexer": "ipython3",
   "version": "3.11.7"
  }
 },
 "nbformat": 4,
 "nbformat_minor": 5
}
